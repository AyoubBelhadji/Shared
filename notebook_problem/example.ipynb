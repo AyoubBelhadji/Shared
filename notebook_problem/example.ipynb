{
 "cells": [
  {
   "cell_type": "markdown",
   "metadata": {
    "hideCode": false,
    "hidePrompt": false
   },
   "source": [
    "### Date           : Jun 12, 2017 Mon\n",
    "### Summary   : Testing jedimaster\n",
    "### Result        : FAILED\n",
    "\n"
   ]
  },
  {
   "cell_type": "markdown",
   "metadata": {
    "hideCode": false,
    "hidePrompt": false
   },
   "source": [
    "1. I got the outputs of jedimaster_same_psf0 and one_loop_jedimaster.\n",
    "2. Compared HST.FITS and lsst0.fits from both outputs, result FAILED.\n",
    "3. Parameters used:\n",
    "   one loop = jedicolor args were both 1.0"
   ]
  },
  {
   "cell_type": "code",
   "execution_count": null,
   "metadata": {
    "collapsed": true,
    "hideCode": false,
    "hidePrompt": false
   },
   "outputs": [],
   "source": [
    "# Changes in one loop jedimaster\n",
    "'''\n",
    "psf =  ['psf/psf%d.fits' % i for i in range(1)]\n",
    "rescaled_lsst_outfile = ['jedisim_out/rescaled_lsst/rescaled_lsst_%d.fits'\n",
    "                          % i for i in range(1) ]\n",
    "run_process(\"jedicolor\", ['./executables/jedicolor',\n",
    "                          config['color_infile'],\n",
    "                          str(1.0), str(1.0)  ])\n",
    "'''"
   ]
  },
  {
   "cell_type": "markdown",
   "metadata": {
    "hideCode": false,
    "hidePrompt": false
   },
   "source": [
    "### Date: June 13, 2017 Tue\n",
    "### Summary: Testing create_jedicolor_args\n"
   ]
  },
  {
   "cell_type": "code",
   "execution_count": null,
   "metadata": {
    "collapsed": true,
    "hideCode": false,
    "hidePrompt": false
   },
   "outputs": [],
   "source": [
    "Ilb = 4.6903969e-06, laml[0]  = 2208.0000000, laml[1]  = 2234.4761905\n",
    "Ilb = 1.0811318e-05, laml[20] = 2737.5238095, laml[21] = 2764.0000000\n",
    "\n",
    "# The range of laml are:\n",
    "laml =  [2208.0, 2234.0, 2261.0, 2287.0, 2314.0, 2340.0, 2367.0, 2393.0, 2420.0, 2446.0, 2473.0, 2499.0, 2526.0, \n",
    "         2552.0, 2579.0, 2605.0, 2632.0, 2658.0, 2685.0, 2711.0, 2738.0, 2764.0]\n",
    "lamh =  [5898.0, 5998.0, 6097.0, 6197.0, 6296.0, 6396.0, 6496.0, 6595.0, 6695.0, 6795.0, 6894.0, 6994.0, 7093.0, \n",
    "         7193.0, 7293.0, 7392.0, 7492.0, 7592.0, 7691.0, 7791.0, 7890.0, 7990.0]\n",
    "\n",
    "laml =  [ 2208.          2234.47619048  2260.95238095  2287.42857143  2313.9047619\n",
    "  2340.38095238  2366.85714286  2393.33333333  2419.80952381  2446.28571429\n",
    "  2472.76190476  2499.23809524  2525.71428571  2552.19047619  2578.66666667\n",
    "  2605.14285714  2631.61904762  2658.0952381   2684.57142857  2711.04761905\n",
    "  2737.52380952  2764.        ]\n",
    "\n",
    "lamh = \n",
    " [ 5898.          5997.61904762  6097.23809524  6196.85714286  6296.47619048\n",
    "  6396.0952381   6495.71428571  6595.33333333  6694.95238095  6794.57142857\n",
    "  6894.19047619  6993.80952381  7093.42857143  7193.04761905  7292.66666667\n",
    "  7392.28571429  7491.9047619   7591.52380952  7691.14285714  7790.76190476\n",
    "  7890.38095238  7990.        ]\n",
    "\n",
    "\n",
    "# **sed file** \n",
    "# 2208.0 1.84513019624e-07 1.84282370291e-07\n",
    "\n",
    "# Outputs\n",
    "Ilb =  [4.6903968749339998e-06, 4.6571558729443342e-06, 4.8635798194950002e-06, \n",
    "        4.7078427828713339e-06, 4.4231369867153331e-06, 4.4089244213865839e-06, \n",
    "        4.4277371321743342e-06, 4.3715355210064171e-06, 5.3247892752783337e-06, \n",
    "        5.4684569716699998e-06, 4.5442569184129993e-06, 4.4924738889891667e-06, \n",
    "        5.3638911379889998e-06, 7.2220447348052491e-06, 7.5010599722189996e-06, \n",
    "        7.3149464738010826e-06, 1.7910793972782668e-05, 1.5949918845252085e-05, \n",
    "        1.671509828222633e-05, 1.0994193905745251e-05, 1.0811318459904999e-05]\n",
    "Ild =  [0.00061422549434196681, 0.00058711598274869983, 0.00061970266368843339, 0.00058320998289951667, \n",
    "        0.0005263389657528, 0.00053231453588329161, 0.00053468511679656669, 0.00051638004855998339, \n",
    "        0.00056124740487846665, 0.00054620775157538336, 0.00054282793092296671, 0.00052731680090986664, \n",
    "        0.00052957457793649998, 0.00053636890521508319, 0.00056218084492309992, 0.00052893913499545001, \n",
    "        0.00061118169013153322, 0.00057375173665417489, 0.00058838577882906664, 0.00055189399650721672, \n",
    "        0.00053975083037946666]\n",
    "\n",
    "# The outputs of create_jedimaster_args.py are good.\n",
    "# I tested the integrals separately and they yield the same values."
   ]
  },
  {
   "cell_type": "markdown",
   "metadata": {
    "hideCode": false,
    "hidePrompt": false
   },
   "source": [
    "# Date       : Jun 12, 2017 Mon\n",
    "### Summary   : Comparison of  same_psf0 and one_loop_jedimaster\n",
    "### Test : catalogs that creates\n",
    "\n"
   ]
  },
  {
   "cell_type": "code",
   "execution_count": 2,
   "metadata": {
    "collapsed": false
   },
   "outputs": [
    {
     "data": {
      "text/plain": [
       "'\\n1. When I changed the jedicolor program and tested outputs of 21 same psf0.fits and one_loop_jedimaster\\n    I got different HST.fits.\\n2. I tested for the consistency of the code that calculates the jedicolor args.\\n3. The integrals and args created by create_jedicolor_args.py are GOOD.\\n4. Now I will take the same jedicatalogs to create the HST.fits.\\n    Create catalog once and use them in both of the programs and comment out jedicatalog.c.\\n'"
      ]
     },
     "execution_count": 2,
     "metadata": {},
     "output_type": "execute_result"
    }
   ],
   "source": [
    "'''\n",
    "1. When I changed the jedicolor program and tested outputs of 21 same psf0.fits and one_loop_jedimaster\n",
    "    I got different HST.fits.\n",
    "2. I tested for the consistency of the code that calculates the jedicolor args.\n",
    "3. The integrals and args created by create_jedicolor_args.py are GOOD.\n",
    "4. Now I will take the same jedicatalogs to create the HST.fits.\n",
    "    Create catalog once and use them in both of the programs and comment out jedicatalog.c.\n",
    "5. Result: SUCCESS!!\n",
    "'''"
   ]
  },
  {
   "cell_type": "code",
   "execution_count": null,
   "metadata": {
    "collapsed": true
   },
   "outputs": [],
   "source": [
    "# I can not edit notebook markdown cells."
   ]
  }
 ],
 "metadata": {
  "hide_code_all_hidden": false,
  "kernelspec": {
   "display_name": "Python 3",
   "language": "python",
   "name": "python3"
  },
  "language_info": {
   "codemirror_mode": {
    "name": "ipython",
    "version": 3
   },
   "file_extension": ".py",
   "mimetype": "text/x-python",
   "name": "python",
   "nbconvert_exporter": "python",
   "pygments_lexer": "ipython3",
   "version": "3.5.2"
  }
 },
 "nbformat": 4,
 "nbformat_minor": 1
}
